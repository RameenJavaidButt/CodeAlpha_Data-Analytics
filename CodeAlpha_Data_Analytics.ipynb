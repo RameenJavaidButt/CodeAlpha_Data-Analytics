{
  "nbformat": 4,
  "nbformat_minor": 0,
  "metadata": {
    "colab": {
      "provenance": []
    },
    "kernelspec": {
      "name": "python3",
      "display_name": "Python 3"
    },
    "language_info": {
      "name": "python"
    }
  },
  "cells": [
    {
      "cell_type": "markdown",
      "source": [
        "## Task 1"
      ],
      "metadata": {
        "id": "tc6zetINhilI"
      }
    },
    {
      "cell_type": "code",
      "execution_count": 3,
      "metadata": {
        "colab": {
          "base_uri": "https://localhost:8080/"
        },
        "id": "ZnRFytuVfqSq",
        "outputId": "08c8cb6b-513c-4ed2-b9dd-962b137f4c3d"
      },
      "outputs": [
        {
          "output_type": "stream",
          "name": "stdout",
          "text": [
            "Data Extracted and Cleaned Successfully\n",
            "\n",
            "                                   Title  Price Availability\n",
            "0                   A Light in the Attic  51.77     In stock\n",
            "1                     Tipping the Velvet  53.74     In stock\n",
            "2                             Soumission  50.10     In stock\n",
            "3                          Sharp Objects  47.82     In stock\n",
            "4  Sapiens: A Brief History of Humankind  54.23     In stock\n"
          ]
        }
      ],
      "source": [
        "import requests\n",
        "from bs4 import BeautifulSoup\n",
        "import pandas as pd\n",
        "\n",
        "#request sent with correct encoding\n",
        "url = \"https://books.toscrape.com/catalogue/page-1.html\"\n",
        "response = requests.get(url)\n",
        "response.encoding = 'utf-8'  # Force correct decoding\n",
        "soup = BeautifulSoup(response.text, 'html.parser')\n",
        "\n",
        "#data extracted\n",
        "books = soup.find_all('article', class_='product_pod')\n",
        "\n",
        "titles, prices, availability = [], [], []\n",
        "\n",
        "for book in books:\n",
        "    title = book.h3.a['title']\n",
        "    price = book.find('p', class_='price_color').text.strip()\n",
        "    stock = book.find('p', class_='instock availability').text.strip()\n",
        "\n",
        "    titles.append(title)\n",
        "    prices.append(price)\n",
        "    availability.append(stock)\n",
        "\n",
        "df = pd.DataFrame({\n",
        "    'Title': titles,\n",
        "    'Price': prices,\n",
        "    'Availability': availability\n",
        "})\n",
        "\n",
        "#any non-numeric characters (like £, Â, etc.) removed\n",
        "df['Price'] = df['Price'].str.replace(r'[^\\d.]', '', regex=True).astype(float)\n",
        "\n",
        "df.to_csv('books_dataset.csv', index=False, encoding='utf-8-sig')\n",
        "\n",
        "print(\"Data Extracted and Cleaned Successfully\\n\")\n",
        "print(df.head())\n"
      ]
    },
    {
      "cell_type": "markdown",
      "source": [
        "## Task 2\n",
        "\n",
        "---\n",
        "\n"
      ],
      "metadata": {
        "id": "la1lMS6Lhpo9"
      }
    },
    {
      "cell_type": "code",
      "source": [
        "import pandas as pd\n",
        "import matplotlib.pyplot as plt\n",
        "import seaborn as sns"
      ],
      "metadata": {
        "id": "7T7dawxPh4vu"
      },
      "execution_count": 4,
      "outputs": []
    },
    {
      "cell_type": "code",
      "source": [
        "df = pd.read_csv(\"books_dataset.csv\")\n",
        "\n",
        "print(\"Dataset Overview:\")\n",
        "print(df.info())\n",
        "print(\"\\nFirst 5 Rows:\")\n",
        "print(df.head())"
      ],
      "metadata": {
        "colab": {
          "base_uri": "https://localhost:8080/"
        },
        "id": "TA1XV-6Ph8oX",
        "outputId": "f4375b52-ed3c-4386-d6c6-9a1fc1da9883"
      },
      "execution_count": 5,
      "outputs": [
        {
          "output_type": "stream",
          "name": "stdout",
          "text": [
            "Dataset Overview:\n",
            "<class 'pandas.core.frame.DataFrame'>\n",
            "RangeIndex: 20 entries, 0 to 19\n",
            "Data columns (total 3 columns):\n",
            " #   Column        Non-Null Count  Dtype  \n",
            "---  ------        --------------  -----  \n",
            " 0   Title         20 non-null     object \n",
            " 1   Price         20 non-null     float64\n",
            " 2   Availability  20 non-null     object \n",
            "dtypes: float64(1), object(2)\n",
            "memory usage: 612.0+ bytes\n",
            "None\n",
            "\n",
            "First 5 Rows:\n",
            "                                   Title  Price Availability\n",
            "0                   A Light in the Attic  51.77     In stock\n",
            "1                     Tipping the Velvet  53.74     In stock\n",
            "2                             Soumission  50.10     In stock\n",
            "3                          Sharp Objects  47.82     In stock\n",
            "4  Sapiens: A Brief History of Humankind  54.23     In stock\n"
          ]
        }
      ]
    },
    {
      "cell_type": "code",
      "source": [
        "\n",
        "print(\"\\nMissing Values:\")\n",
        "print(df.isnull().sum())#no missing values\n",
        "\n",
        "print(\"\\nDescriptive Statistics:\")\n",
        "print(df.describe())\n",
        "\n",
        "duplicates = df.duplicated().sum()\n",
        "print(f\"\\nNumber of duplicate rows: {duplicates}\")#no duplicates"
      ],
      "metadata": {
        "colab": {
          "base_uri": "https://localhost:8080/"
        },
        "id": "GeYFCmRyiDnW",
        "outputId": "079a16d6-457c-4aa6-8655-c93caf7b6c95"
      },
      "execution_count": 6,
      "outputs": [
        {
          "output_type": "stream",
          "name": "stdout",
          "text": [
            "\n",
            "Missing Values:\n",
            "Title           0\n",
            "Price           0\n",
            "Availability    0\n",
            "dtype: int64\n",
            "\n",
            "Descriptive Statistics:\n",
            "           Price\n",
            "count  20.000000\n",
            "mean   38.048500\n",
            "std    15.135231\n",
            "min    13.990000\n",
            "25%    22.637500\n",
            "50%    41.380000\n",
            "75%    51.865000\n",
            "max    57.250000\n",
            "\n",
            "Number of duplicate rows: 0\n"
          ]
        }
      ]
    },
    {
      "cell_type": "code",
      "source": [
        "#histogram\n",
        "plt.figure(figsize=(8,5))\n",
        "sns.histplot(df['Price'], bins=20, kde=True)\n",
        "plt.title(\"Book Price Distribution\")\n",
        "plt.xlabel(\"Price (£)\")\n",
        "plt.ylabel(\"Frequency\")\n",
        "plt.show()\n"
      ],
      "metadata": {
        "colab": {
          "base_uri": "https://localhost:8080/",
          "height": 487
        },
        "id": "7D08B6lDiHP8",
        "outputId": "00352a35-40a1-40eb-db5a-454633592b02"
      },
      "execution_count": 7,
      "outputs": [
        {
          "output_type": "display_data",
          "data": {
            "text/plain": [
              "<Figure size 800x500 with 1 Axes>"
            ],
            "image/png": "[encoded data removed]"
          },
          "metadata": {}
        }
      ]
    },
    {
      "cell_type": "code",
      "source": [
        "#Count Plot\n",
        "plt.figure(figsize=(6,4))\n",
        "sns.countplot(y='Availability', data=df)\n",
        "plt.title(\"Books Availability Count\")\n",
        "plt.xlabel(\"Count\")\n",
        "plt.ylabel(\"Availability Status\")\n",
        "plt.show()"
      ],
      "metadata": {
        "colab": {
          "base_uri": "https://localhost:8080/",
          "height": 410
        },
        "id": "GUEgYm5uiI86",
        "outputId": "15c5eeb0-bd82-46d3-de6e-f7391c40385f"
      },
      "execution_count": 8,
      "outputs": [
        {
          "output_type": "display_data",
          "data": {
            "text/plain": [
              "<Figure size 600x400 with 1 Axes>"
            ],
            "image/png": "[encoded data removed]"
          },
          "metadata": {}
        }
      ]
    },
    {
      "cell_type": "code",
      "source": [
        "#boxplot to see Outliers\n",
        "plt.figure(figsize=(6,4))#no outliers\n",
        "sns.boxplot(x=df['Price'])\n",
        "plt.title(\"Price Outlier Detection\")\n",
        "plt.show()\n",
        "\n"
      ],
      "metadata": {
        "colab": {
          "base_uri": "https://localhost:8080/",
          "height": 410
        },
        "id": "0bdIw0mIiKkG",
        "outputId": "51362bcd-b810-4575-916f-a05521d7517b"
      },
      "execution_count": 9,
      "outputs": [
        {
          "output_type": "display_data",
          "data": {
            "text/plain": [
              "<Figure size 600x400 with 1 Axes>"
            ],
            "image/png": "[encoded data removed]"
          },
          "metadata": {}
        }
      ]
    },
    {
      "cell_type": "code",
      "source": [
        "#iqr method for outlier detection\n",
        "Q1 = df['Price'].quantile(0.25)\n",
        "Q3 = df['Price'].quantile(0.75)\n",
        "IQR = Q3 - Q1\n",
        "outliers = df[(df['Price'] < (Q1 - 1.5 * IQR)) | (df['Price'] > (Q3 + 1.5 * IQR))]\n",
        "print(f\"\\nNumber of Outliers Detected: {len(outliers)}\")"
      ],
      "metadata": {
        "colab": {
          "base_uri": "https://localhost:8080/"
        },
        "id": "PxJNBqnXiOyd",
        "outputId": "e8cebd77-173d-489a-fd6e-f7c9debd595b"
      },
      "execution_count": 10,
      "outputs": [
        {
          "output_type": "stream",
          "name": "stdout",
          "text": [
            "\n",
            "Number of Outliers Detected: 0\n"
          ]
        }
      ]
    },
    {
      "cell_type": "code",
      "source": [
        "\n",
        "print(\"\\nSummary Insights:\")\n",
        "print(f\"- Total books analyzed: {len(df)}\")\n",
        "print(f\"- Average book price: £{df['Price'].mean():.2f}\")\n",
        "print(f\"- Highest priced book: £{df['Price'].max():.2f}\")\n",
        "print(f\"- Lowest priced book: £{df['Price'].min():.2f}\")\n"
      ],
      "metadata": {
        "colab": {
          "base_uri": "https://localhost:8080/"
        },
        "id": "5lx_m0nJhuNE",
        "outputId": "6d0d19ab-ef0a-49b2-c837-96aac3f18757"
      },
      "execution_count": 12,
      "outputs": [
        {
          "output_type": "stream",
          "name": "stdout",
          "text": [
            "\n",
            "Summary Insights:\n",
            "- Total books analyzed: 20\n",
            "- Average book price: £38.05\n",
            "- Highest priced book: £57.25\n",
            "- Lowest priced book: £13.99\n"
          ]
        }
      ]
    }
  ]
}